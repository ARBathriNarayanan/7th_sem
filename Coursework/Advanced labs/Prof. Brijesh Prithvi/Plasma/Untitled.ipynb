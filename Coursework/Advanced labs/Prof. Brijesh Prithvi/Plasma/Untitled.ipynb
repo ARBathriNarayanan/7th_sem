{
 "cells": [
  {
   "cell_type": "code",
   "execution_count": null,
   "id": "f6c77e7e-53d0-495b-9633-9d7cbf2287db",
   "metadata": {},
   "outputs": [],
   "source": [
    "#Gas: 1=Nitrogen, 2=Argon\n",
    "def Te(gas,count1,count2):\n",
    "    if (gas==1):\n",
    "        de="
   ]
  }
 ],
 "metadata": {
  "kernelspec": {
   "display_name": "Python 3 (ipykernel)",
   "language": "python",
   "name": "python3"
  },
  "language_info": {
   "codemirror_mode": {
    "name": "ipython",
    "version": 3
   },
   "file_extension": ".py",
   "mimetype": "text/x-python",
   "name": "python",
   "nbconvert_exporter": "python",
   "pygments_lexer": "ipython3",
   "version": "3.12.7"
  }
 },
 "nbformat": 4,
 "nbformat_minor": 5
}
