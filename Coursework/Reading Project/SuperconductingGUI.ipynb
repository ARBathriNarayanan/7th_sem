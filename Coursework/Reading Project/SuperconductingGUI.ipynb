{
 "cells": [
  {
   "cell_type": "code",
   "execution_count": 1,
   "id": "2e081900-5bb9-485f-ac61-a14b4bbd7efc",
   "metadata": {},
   "outputs": [],
   "source": [
    "#!pip install pytest, scqubits\n",
    "#!pip install matplotlib-label-lines"
   ]
  },
  {
   "cell_type": "code",
   "execution_count": 2,
   "id": "0ad98f2a-c9f1-4b61-8da7-6b70a038cf6c",
   "metadata": {},
   "outputs": [
    {
     "data": {
      "application/vnd.jupyter.widget-view+json": {
       "model_id": "aa5897211f3647679d161875848b575f",
       "version_major": 2,
       "version_minor": 0
      },
      "text/plain": [
       "Container(children=[Sheet(children=[Card(children=[Img(layout=None, src='data:image/png;base64,iVBORw0KGgoAAAA…"
      ]
     },
     "metadata": {},
     "output_type": "display_data"
    },
    {
     "data": {
      "text/plain": []
     },
     "execution_count": 2,
     "metadata": {},
     "output_type": "execute_result"
    }
   ],
   "source": [
    "import scqubits\n",
    "scqubits.GUI()"
   ]
  },
  {
   "cell_type": "code",
   "execution_count": null,
   "id": "9c6c151b-6dcf-4be8-930a-7d4ef18d4d79",
   "metadata": {},
   "outputs": [],
   "source": []
  }
 ],
 "metadata": {
  "kernelspec": {
   "display_name": "Python 3 (ipykernel)",
   "language": "python",
   "name": "python3"
  },
  "language_info": {
   "codemirror_mode": {
    "name": "ipython",
    "version": 3
   },
   "file_extension": ".py",
   "mimetype": "text/x-python",
   "name": "python",
   "nbconvert_exporter": "python",
   "pygments_lexer": "ipython3",
   "version": "3.12.4"
  }
 },
 "nbformat": 4,
 "nbformat_minor": 5
}
