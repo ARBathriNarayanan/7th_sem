{
 "cells": [
  {
   "cell_type": "code",
   "execution_count": 1,
   "id": "90bf824b-5c7b-4dfd-a823-f620d02aaf58",
   "metadata": {},
   "outputs": [
    {
     "name": "stdout",
     "output_type": "stream",
     "text": [
      "Defaulting to user installation because normal site-packages is not writeable\n",
      "Requirement already satisfied: qiskit in /home/bathri/.local/lib/python3.12/site-packages (1.0.2)\n",
      "Requirement already satisfied: rustworkx>=0.14.0 in /home/bathri/.local/lib/python3.12/site-packages (from qiskit) (0.14.2)\n",
      "Requirement already satisfied: numpy<2,>=1.17 in /home/bathri/.local/lib/python3.12/site-packages (from qiskit) (1.26.4)\n",
      "Requirement already satisfied: scipy>=1.5 in /home/bathri/.local/lib/python3.12/site-packages (from qiskit) (1.11.4)\n",
      "Requirement already satisfied: sympy>=1.3 in /home/bathri/.local/lib/python3.12/site-packages (from qiskit) (1.12)\n",
      "Requirement already satisfied: dill>=0.3 in /home/bathri/.local/lib/python3.12/site-packages (from qiskit) (0.3.8)\n",
      "Requirement already satisfied: python-dateutil>=2.8.0 in /usr/lib/python3.12/site-packages (from qiskit) (2.8.2)\n",
      "Requirement already satisfied: stevedore>=3.0.0 in /home/bathri/.local/lib/python3.12/site-packages (from qiskit) (5.1.0)\n",
      "Requirement already satisfied: typing-extensions in /home/bathri/.local/lib/python3.12/site-packages (from qiskit) (4.12.1)\n",
      "Requirement already satisfied: symengine>=0.11 in /home/bathri/.local/lib/python3.12/site-packages (from qiskit) (0.11.0)\n",
      "Requirement already satisfied: six>=1.5 in /usr/lib/python3.12/site-packages (from python-dateutil>=2.8.0->qiskit) (1.16.0)\n",
      "Requirement already satisfied: pbr!=2.1.0,>=2.0.0 in /home/bathri/.local/lib/python3.12/site-packages (from stevedore>=3.0.0->qiskit) (6.0.0)\n",
      "Requirement already satisfied: mpmath>=0.19 in /home/bathri/.local/lib/python3.12/site-packages (from sympy>=1.3->qiskit) (1.3.0)\n",
      "Note: you may need to restart the kernel to use updated packages.\n"
     ]
    }
   ],
   "source": [
    "pip install qiskit"
   ]
  },
  {
   "cell_type": "code",
   "execution_count": 7,
   "id": "9e62d9ca-9476-4d59-ae2b-95da85a59d70",
   "metadata": {},
   "outputs": [
    {
     "name": "stdout",
     "output_type": "stream",
     "text": [
      "Defaulting to user installation because normal site-packages is not writeable\n",
      "Requirement already satisfied: pip in /home/bathri/.local/lib/python3.12/site-packages (24.3.1)\n",
      "Note: you may need to restart the kernel to use updated packages.\n"
     ]
    }
   ],
   "source": [
    "pip install --upgrade pip"
   ]
  },
  {
   "cell_type": "code",
   "execution_count": null,
   "id": "58a915a1-f8a5-4204-b234-2c9bd7cf251d",
   "metadata": {},
   "outputs": [
    {
     "name": "stdout",
     "output_type": "stream",
     "text": [
      "Defaulting to user installation because normal site-packages is not writeable\n",
      "Collecting qiskit-metal\n",
      "  Using cached qiskit_metal-0.1.5-py3-none-any.whl.metadata (10 kB)\n",
      "Collecting addict==2.4.0 (from qiskit-metal)\n",
      "  Using cached addict-2.4.0-py3-none-any.whl.metadata (1.0 kB)\n",
      "Collecting descartes==1.1.0 (from qiskit-metal)\n",
      "  Using cached descartes-1.1.0-py3-none-any.whl.metadata (2.4 kB)\n",
      "Collecting gdspy==1.6.12 (from qiskit-metal)\n",
      "  Using cached gdspy-1.6.12.zip (157 kB)\n",
      "  Preparing metadata (setup.py) ... \u001b[?25ldone\n",
      "\u001b[?25hCollecting geopandas==0.12.2 (from qiskit-metal)\n",
      "  Using cached geopandas-0.12.2-py3-none-any.whl.metadata (1.0 kB)\n",
      "Collecting ipython==8.10.0 (from qiskit-metal)\n",
      "  Using cached ipython-8.10.0-py3-none-any.whl.metadata (5.7 kB)\n",
      "Collecting matplotlib==3.7.0 (from qiskit-metal)\n",
      "  Using cached matplotlib-3.7.0.tar.gz (36.3 MB)\n",
      "  Installing build dependencies ... \u001b[?25l/"
     ]
    }
   ],
   "source": [
    "pip install qiskit-metal"
   ]
  },
  {
   "cell_type": "code",
   "execution_count": null,
   "id": "c8fe50df-56c5-40c1-9b42-f5d0440963ca",
   "metadata": {},
   "outputs": [],
   "source": []
  }
 ],
 "metadata": {
  "kernelspec": {
   "display_name": "Python 3 (ipykernel)",
   "language": "python",
   "name": "python3"
  },
  "language_info": {
   "codemirror_mode": {
    "name": "ipython",
    "version": 3
   },
   "file_extension": ".py",
   "mimetype": "text/x-python",
   "name": "python",
   "nbconvert_exporter": "python",
   "pygments_lexer": "ipython3",
   "version": "3.12.5"
  }
 },
 "nbformat": 4,
 "nbformat_minor": 5
}
